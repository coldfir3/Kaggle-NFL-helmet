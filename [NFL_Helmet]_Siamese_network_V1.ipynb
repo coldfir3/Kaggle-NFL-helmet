{
  "nbformat": 4,
  "nbformat_minor": 0,
  "metadata": {
    "colab": {
      "name": "[NFL-Helmet] Siamese network V1.ipynb",
      "provenance": [],
      "collapsed_sections": [],
      "authorship_tag": "ABX9TyP8+lbIi6noMlmhU46wWz8W",
      "include_colab_link": true
    },
    "kernelspec": {
      "name": "python3",
      "display_name": "Python 3"
    },
    "language_info": {
      "name": "python"
    },
    "accelerator": "GPU"
  },
  "cells": [
    {
      "cell_type": "markdown",
      "metadata": {
        "id": "view-in-github",
        "colab_type": "text"
      },
      "source": [
        "<a href=\"https://colab.research.google.com/github/coldfir3/Kaggle-NFL-helmet/blob/main/%5BNFL_Helmet%5D_Siamese_network_V1.ipynb\" target=\"_parent\"><img src=\"https://colab.research.google.com/assets/colab-badge.svg\" alt=\"Open In Colab\"/></a>"
      ]
    },
    {
      "cell_type": "markdown",
      "metadata": {
        "id": "g_ie26T9NjC1"
      },
      "source": [
        "## Initial Setup"
      ]
    },
    {
      "cell_type": "code",
      "metadata": {
        "colab": {
          "base_uri": "https://localhost:8080/"
        },
        "id": "TG1UcdQLNV_X",
        "outputId": "77b84ca1-b9dc-4367-bdc9-305d35891509"
      },
      "source": [
        "import sys\n",
        "import os\n",
        "is_colab = 'google.colab' in sys.modules\n",
        "!nvidia-smi"
      ],
      "execution_count": 1,
      "outputs": [
        {
          "output_type": "stream",
          "text": [
            "Fri Aug 27 17:20:16 2021       \n",
            "+-----------------------------------------------------------------------------+\n",
            "| NVIDIA-SMI 470.57.02    Driver Version: 460.32.03    CUDA Version: 11.2     |\n",
            "|-------------------------------+----------------------+----------------------+\n",
            "| GPU  Name        Persistence-M| Bus-Id        Disp.A | Volatile Uncorr. ECC |\n",
            "| Fan  Temp  Perf  Pwr:Usage/Cap|         Memory-Usage | GPU-Util  Compute M. |\n",
            "|                               |                      |               MIG M. |\n",
            "|===============================+======================+======================|\n",
            "|   0  Tesla T4            Off  | 00000000:00:04.0 Off |                    0 |\n",
            "| N/A   49C    P0    28W /  70W |      0MiB / 15109MiB |      0%      Default |\n",
            "|                               |                      |                  N/A |\n",
            "+-------------------------------+----------------------+----------------------+\n",
            "                                                                               \n",
            "+-----------------------------------------------------------------------------+\n",
            "| Processes:                                                                  |\n",
            "|  GPU   GI   CI        PID   Type   Process name                  GPU Memory |\n",
            "|        ID   ID                                                   Usage      |\n",
            "|=============================================================================|\n",
            "|  No running processes found                                                 |\n",
            "+-----------------------------------------------------------------------------+\n"
          ],
          "name": "stdout"
        }
      ]
    },
    {
      "cell_type": "markdown",
      "metadata": {
        "id": "67MUjz6-Nm6G"
      },
      "source": [
        "### Installing packages"
      ]
    },
    {
      "cell_type": "code",
      "metadata": {
        "id": "uQMtm6YEtMwg"
      },
      "source": [
        "if is_colab:\n",
        "    !pip install -Uqqq wandb\n",
        "    !pip install -Uqqq fastai\n",
        "    !pip install -Uqqq timm"
      ],
      "execution_count": 2,
      "outputs": []
    },
    {
      "cell_type": "markdown",
      "metadata": {
        "id": "aFs1gKxXNt1K"
      },
      "source": [
        "### Loading packages"
      ]
    },
    {
      "cell_type": "code",
      "metadata": {
        "id": "GfaReODVtOU0"
      },
      "source": [
        "from fastai.vision.all import *\n",
        "import wandb\n",
        "from fastai.callback.wandb import *\n",
        "import timm"
      ],
      "execution_count": 3,
      "outputs": []
    },
    {
      "cell_type": "markdown",
      "metadata": {
        "id": "0HDbko4QJMoA"
      },
      "source": [
        "### Downloading data\n",
        "\n"
      ]
    },
    {
      "cell_type": "code",
      "metadata": {
        "id": "b5f5KDhnr1x2"
      },
      "source": [
        "wandb.Api()\n",
        "if is_colab:\n",
        "\n",
        "    from google.colab import drive\n",
        "    from os.path import exists\n",
        "\n",
        "    if not exists('/content/drive'):\n",
        "        drive.mount('/content/drive')\n",
        "    %run '/content/drive/MyDrive/Kaggle/My Kaggle [colab].ipynb'\n",
        "\n",
        "    if not exists('/content/sideline'):\n",
        "        setup_kaggle()\n",
        "        get_kaggle_data('d', 'coldfir3/nflhelmet-path-dataset')"
      ],
      "execution_count": 4,
      "outputs": []
    },
    {
      "cell_type": "markdown",
      "metadata": {
        "id": "0yQrCHs2sKt0"
      },
      "source": [
        "## Datablock & Dataloaders"
      ]
    },
    {
      "cell_type": "code",
      "metadata": {
        "id": "xBvDfalosG9L"
      },
      "source": [
        "path_side = Path('/content/sideline')\n",
        "path_track = Path('/content/tracking')\n",
        "imgs_side = get_image_files(path_side)\n",
        "imgs_track = get_image_files(path_track)\n",
        "game_plays = L(set(['_'.join(x.stem.split('_')[:-1]) for x in imgs_track]))\n",
        "games = L(set(['_'.join(x.stem.split('_')[:-2]) for x in imgs_track]))"
      ],
      "execution_count": 5,
      "outputs": []
    },
    {
      "cell_type": "code",
      "metadata": {
        "id": "aAHSs2snr7Ts"
      },
      "source": [
        "class ImageTuple(fastuple):\n",
        "    @classmethod\n",
        "    def create(cls, fns): return cls(tuple(PILImageBW.create(f) for f in fns))\n",
        "    \n",
        "    def show(self, ctx=None, **kwargs): \n",
        "        if 'cmap' not in kwargs:\n",
        "            kwargs['cmap'] = 'gray' \n",
        "        t1,t2 = self\n",
        "        if not isinstance(t1, Tensor) or not isinstance(t2, Tensor) or t1.shape != t2.shape: return ctx\n",
        "        line = t1.new_zeros(t1.shape[0], t1.shape[1], 2)\n",
        "        return show_image(torch.cat([t1,line,t2], dim=2), ctx=ctx, **kwargs)\n",
        "\n",
        "def ImageTupleBlock(): return TransformBlock(type_tfms=ImageTuple.create, batch_tfms=IntToFloatTensor)\n",
        "\n",
        "@typedispatch\n",
        "def show_batch(x:ImageTuple, y, samples, ctxs=None, max_n=6, nrows=None, ncols=2, figsize=None, **kwargs):\n",
        "    if figsize is None: figsize = (ncols*6, max_n//ncols * 3)\n",
        "    if ctxs is None: ctxs = get_grid(min(len(samples), max_n), nrows=nrows, ncols=ncols, figsize=figsize)\n",
        "    ctxs = show_batch[object](x, y, samples, ctxs=ctxs, max_n=max_n, **kwargs)\n",
        "    return ctxs"
      ],
      "execution_count": 6,
      "outputs": []
    },
    {
      "cell_type": "code",
      "metadata": {
        "colab": {
          "base_uri": "https://localhost:8080/",
          "height": 170
        },
        "id": "R8b-faVRtpqP",
        "outputId": "eab9717d-2a03-4892-89a7-8596546b7b31"
      },
      "source": [
        "img = ImageTuple.create((imgs_side[0], imgs_track[0]))\n",
        "img = ToTensor()(img)\n",
        "img.show();"
      ],
      "execution_count": 7,
      "outputs": [
        {
          "output_type": "display_data",
          "data": {
            "image/png": "[encoded data removed]",
            "text/plain": [
              "<Figure size 360x360 with 1 Axes>"
            ]
          },
          "metadata": {
            "needs_background": "light"
          }
        }
      ]
    },
    {
      "cell_type": "code",
      "metadata": {
        "colab": {
          "base_uri": "https://localhost:8080/"
        },
        "id": "IaScORRIt432",
        "outputId": "4213696e-0e9a-4fe3-cea9-fd50f091d397"
      },
      "source": [
        "splits = RandomSplitter(seed=42)(games)\n",
        "splits_files = [L([f for f in imgs_side if f.stem.split('_')[0] in games[s]]) for s in splits]\n",
        "splits_sets = mapped(set, splits_files)\n",
        "splits_files"
      ],
      "execution_count": 8,
      "outputs": [
        {
          "output_type": "execute_result",
          "data": {
            "text/plain": [
              "[(#1056) [Path('/content/sideline/57584_000336_V26.png'),Path('/content/sideline/57993_000475_H93.png'),Path('/content/sideline/57597_001242_V26.png'),Path('/content/sideline/58093_001923_H59.png'),Path('/content/sideline/57782_000600_H6.png'),Path('/content/sideline/58094_000423_H21.png'),Path('/content/sideline/57680_002206_H11.png'),Path('/content/sideline/57679_003316_H93.png'),Path('/content/sideline/57679_003316_V18.png'),Path('/content/sideline/58102_002798_V78.png')...],\n",
              " (#264) [Path('/content/sideline/58103_003494_H38.png'),Path('/content/sideline/58103_003494_V73.png'),Path('/content/sideline/57786_003085_V88.png'),Path('/content/sideline/58095_004022_H78.png'),Path('/content/sideline/57997_003691_V42.png'),Path('/content/sideline/57905_002404_V18.png'),Path('/content/sideline/58095_004022_V22.png'),Path('/content/sideline/57784_001741_H40.png'),Path('/content/sideline/57907_003615_H24.png'),Path('/content/sideline/57786_003085_H96.png')...]]"
            ]
          },
          "metadata": {},
          "execution_count": 8
        }
      ]
    },
    {
      "cell_type": "code",
      "metadata": {
        "id": "Q4skInfK3xUy"
      },
      "source": [
        "def get_split(f):\n",
        "    for i,s in enumerate(splits_sets):\n",
        "        if f in s: return i\n",
        "    raise ValueError(f'File {f} is not presented in any split.')\n",
        "\n",
        "game_play2files = [{l: [f for f in s if '_'.join(f.stem.split('_')[:-1]) == l] for l in game_plays} for s in splits_sets]\n",
        "\n",
        "def splitter(items): \n",
        "    def get_split_files(i): return [j for j,(f1,f2,same) in enumerate(items) if get_split(f1)==i]\n",
        "    return get_split_files(0),get_split_files(1)\n",
        "\n",
        "def draw_other(f):\n",
        "    same = random.random() < 0.5\n",
        "    split = get_split(f)\n",
        "    game_play = '_'.join(f.stem.split('_')[:-1])\n",
        "    if same:\n",
        "        return path_track / f.name, same\n",
        "    else:\n",
        "        possible_draws = [path_track / ff.name for ff in game_play2files[split][game_play] if ff != f]\n",
        "        return random.choice(possible_draws), same\n",
        "\n",
        "def get_tuples(files): return [[f, *draw_other(f)] for f in files]\n",
        "\n",
        "def get_x(t): return t[:2]\n",
        "def get_y(t): return t[2]"
      ],
      "execution_count": 9,
      "outputs": []
    },
    {
      "cell_type": "code",
      "metadata": {
        "colab": {
          "base_uri": "https://localhost:8080/"
        },
        "id": "YMBO3w-l2_Y4",
        "outputId": "6e1b39aa-41a2-4b70-9494-20274e5b99c1"
      },
      "source": [
        "siamese = DataBlock(\n",
        "    blocks=(ImageTupleBlock, CategoryBlock),\n",
        "    get_items=get_tuples,\n",
        "    get_x=get_x, get_y=get_y,\n",
        "    splitter=splitter,\n",
        "    item_tfms=[Resize(256), DihedralItem()],\n",
        "    batch_tfms=aug_transforms(size = 224)\n",
        ")\n",
        "\n",
        "dls = siamese.dataloaders(imgs_side, bs = 8)"
      ],
      "execution_count": 10,
      "outputs": [
        {
          "output_type": "stream",
          "text": [
            "/usr/local/lib/python3.7/dist-packages/torch/_tensor.py:1023: UserWarning: torch.solve is deprecated in favor of torch.linalg.solveand will be removed in a future PyTorch release.\n",
            "torch.linalg.solve has its arguments reversed and does not return the LU factorization.\n",
            "To get the LU factorization see torch.lu, which can be used with torch.lu_solve or torch.lu_unpack.\n",
            "X = torch.solve(B, A).solution\n",
            "should be replaced with\n",
            "X = torch.linalg.solve(A, B) (Triggered internally at  /pytorch/aten/src/ATen/native/BatchLinearAlgebra.cpp:760.)\n",
            "  ret = func(*args, **kwargs)\n"
          ],
          "name": "stderr"
        }
      ]
    },
    {
      "cell_type": "code",
      "metadata": {
        "colab": {
          "base_uri": "https://localhost:8080/",
          "height": 373
        },
        "id": "iucz4rjY7YWh",
        "outputId": "1fdc21b5-674d-43c1-8821-142aa0c5dea4"
      },
      "source": [
        "dls.show_batch(max_n = 4)"
      ],
      "execution_count": 11,
      "outputs": [
        {
          "output_type": "display_data",
          "data": {
            "image/png": "[encoded data removed]",
            "text/plain": [
              "<Figure size 864x432 with 4 Axes>"
            ]
          },
          "metadata": {
            "needs_background": "light"
          }
        }
      ]
    },
    {
      "cell_type": "markdown",
      "metadata": {
        "id": "h4PCH4SvGxmv"
      },
      "source": [
        "## Training the model"
      ]
    },
    {
      "cell_type": "code",
      "metadata": {
        "id": "ULX7XE8P7hS4"
      },
      "source": [
        "class SiameseModel(Module):\n",
        "    def __init__(self, encoder, head):\n",
        "        self.encoder,self.head = encoder,head\n",
        "    \n",
        "    def forward(self, x):\n",
        "        x1, x2 = x\n",
        "        ftrs = torch.cat([self.encoder(x1), self.encoder(x2)], dim=1)\n",
        "        return self.head(ftrs)"
      ],
      "execution_count": 12,
      "outputs": []
    },
    {
      "cell_type": "code",
      "metadata": {
        "id": "hs1CBEcDG336"
      },
      "source": [
        "def siamese_splitter(model):\n",
        "    return [params(model.encoder), params(model.head)]"
      ],
      "execution_count": 13,
      "outputs": []
    },
    {
      "cell_type": "code",
      "metadata": {
        "id": "UbM97XdkHzHG"
      },
      "source": [
        "def loss_func(out, targ):\n",
        "    return CrossEntropyLossFlat()(out, targ.long())"
      ],
      "execution_count": 14,
      "outputs": []
    },
    {
      "cell_type": "code",
      "metadata": {
        "id": "_zeRl4obIxSm"
      },
      "source": [
        "class SiameseModel(Module):\n",
        "    def __init__(self, encoder, head):\n",
        "        self.encoder,self.head = encoder,head\n",
        "    \n",
        "    def forward(self, x):\n",
        "        x1, x2 = x\n",
        "        ftrs = torch.cat([self.encoder(x1), self.encoder(x2)], dim=1)\n",
        "        return self.head(ftrs)\n",
        "\n",
        "def create_timm_model_siamese(**cfg):\n",
        "    model_name = cfg.pop('arch')\n",
        "    img_size = cfg.pop('img_size')\n",
        "\n",
        "    body = timm.create_model(model_name, True, num_classes = 0, **cfg)\n",
        "    nf = body(torch.randn((2, cfg['in_chans'], img_size,img_size))).shape[-1]\n",
        "    # head = nn.Linear(2*nf, 1)\n",
        "    head = create_head(nf*2, 2, ps=0.5)\n",
        "    model = SiameseModel(body, head)\n",
        "\n",
        "    return model\n",
        "\n",
        "def siamese_splitter(model):\n",
        "    return [params(model.encoder), params(model.head)]"
      ],
      "execution_count": 15,
      "outputs": []
    },
    {
      "cell_type": "code",
      "metadata": {
        "id": "hSxzPJIjOVP_"
      },
      "source": [
        "model = create_timm_model_siamese(**{\n",
        "    'arch':'vit_small_patch16_224',\n",
        "    'img_size':224,\n",
        "    'in_chans' : 1, \n",
        "})"
      ],
      "execution_count": 16,
      "outputs": []
    },
    {
      "cell_type": "code",
      "metadata": {
        "id": "IIXd5VIQXSdm"
      },
      "source": [
        "encoder = timm.create_model('seresnet152d', True, num_classes = 0, in_chans = 1, global_pool='')\n",
        "# encoder = timm.create_model('vit_small_patch16_224', True, num_classes = 0, in_chans = 1)\n",
        "head = create_head(2048*2, 2, lin_ftrs=[1024,512], ps=0.5)\n",
        "model = SiameseModel(encoder, head)"
      ],
      "execution_count": 22,
      "outputs": []
    },
    {
      "cell_type": "code",
      "metadata": {
        "id": "d9Ud2PVOH7zU"
      },
      "source": [
        "learn = Learner(dls, model, loss_func=loss_func, splitter=siamese_splitter, metrics=accuracy)"
      ],
      "execution_count": 23,
      "outputs": []
    },
    {
      "cell_type": "code",
      "metadata": {
        "colab": {
          "base_uri": "https://localhost:8080/",
          "height": 355
        },
        "id": "ATIhGGL-QxVk",
        "outputId": "bf2f3aa9-2b92-4193-b1e9-c68892474b88"
      },
      "source": [
        "learn.freeze()\n",
        "learn.lr_find()"
      ],
      "execution_count": 19,
      "outputs": [
        {
          "output_type": "display_data",
          "data": {
            "text/html": [
              ""
            ],
            "text/plain": [
              "<IPython.core.display.HTML object>"
            ]
          },
          "metadata": {}
        },
        {
          "output_type": "stream",
          "text": [
            "/usr/local/lib/python3.7/dist-packages/torch/nn/functional.py:718: UserWarning: Named tensors and all their associated APIs are an experimental feature and subject to change. Please do not use them for anything important until they are released as stable. (Triggered internally at  /pytorch/c10/core/TensorImpl.h:1156.)\n",
            "  return torch.max_pool2d(input, kernel_size, stride, padding, dilation, ceil_mode)\n"
          ],
          "name": "stderr"
        },
        {
          "output_type": "execute_result",
          "data": {
            "text/plain": [
              "SuggestedLRs(valley=0.00013182566908653826)"
            ]
          },
          "metadata": {},
          "execution_count": 19
        },
        {
          "output_type": "display_data",
          "data": {
            "image/png": "[encoded data removed]",
            "text/plain": [
              "<Figure size 432x288 with 1 Axes>"
            ]
          },
          "metadata": {
            "needs_background": "light"
          }
        }
      ]
    },
    {
      "cell_type": "code",
      "metadata": {
        "colab": {
          "base_uri": "https://localhost:8080/",
          "height": 629
        },
        "id": "AaeuN8CNH95F",
        "outputId": "0877aef0-5899-45c9-9c45-8384f1301694"
      },
      "source": [
        "learn.fine_tune(25, 1e-4)"
      ],
      "execution_count": null,
      "outputs": [
        {
          "output_type": "display_data",
          "data": {
            "text/html": [
              "<table border=\"1\" class=\"dataframe\">\n",
              "  <thead>\n",
              "    <tr style=\"text-align: left;\">\n",
              "      <th>epoch</th>\n",
              "      <th>train_loss</th>\n",
              "      <th>valid_loss</th>\n",
              "      <th>accuracy</th>\n",
              "      <th>time</th>\n",
              "    </tr>\n",
              "  </thead>\n",
              "  <tbody>\n",
              "    <tr>\n",
              "      <td>0</td>\n",
              "      <td>0.827568</td>\n",
              "      <td>0.932434</td>\n",
              "      <td>0.511364</td>\n",
              "      <td>01:11</td>\n",
              "    </tr>\n",
              "  </tbody>\n",
              "</table>"
            ],
            "text/plain": [
              "<IPython.core.display.HTML object>"
            ]
          },
          "metadata": {}
        },
        {
          "output_type": "display_data",
          "data": {
            "text/html": [
              "\n",
              "    <div>\n",
              "        <style>\n",
              "            /* Turns off some styling */\n",
              "            progress {\n",
              "                /* gets rid of default border in Firefox and Opera. */\n",
              "                border: none;\n",
              "                /* Needs to be in here for Safari polyfill so background images work as expected. */\n",
              "                background-size: auto;\n",
              "            }\n",
              "            .progress-bar-interrupted, .progress-bar-interrupted::-webkit-progress-bar {\n",
              "                background: #F44336;\n",
              "            }\n",
              "        </style>\n",
              "      <progress value='15' class='' max='25' style='width:300px; height:20px; vertical-align: middle;'></progress>\n",
              "      60.00% [15/25 23:22<15:35]\n",
              "    </div>\n",
              "    \n",
              "<table border=\"1\" class=\"dataframe\">\n",
              "  <thead>\n",
              "    <tr style=\"text-align: left;\">\n",
              "      <th>epoch</th>\n",
              "      <th>train_loss</th>\n",
              "      <th>valid_loss</th>\n",
              "      <th>accuracy</th>\n",
              "      <th>time</th>\n",
              "    </tr>\n",
              "  </thead>\n",
              "  <tbody>\n",
              "    <tr>\n",
              "      <td>0</td>\n",
              "      <td>0.802021</td>\n",
              "      <td>0.965408</td>\n",
              "      <td>0.465909</td>\n",
              "      <td>01:33</td>\n",
              "    </tr>\n",
              "    <tr>\n",
              "      <td>1</td>\n",
              "      <td>0.808746</td>\n",
              "      <td>0.826536</td>\n",
              "      <td>0.511364</td>\n",
              "      <td>01:33</td>\n",
              "    </tr>\n",
              "    <tr>\n",
              "      <td>2</td>\n",
              "      <td>0.847004</td>\n",
              "      <td>0.938116</td>\n",
              "      <td>0.492424</td>\n",
              "      <td>01:33</td>\n",
              "    </tr>\n",
              "    <tr>\n",
              "      <td>3</td>\n",
              "      <td>0.783141</td>\n",
              "      <td>0.925677</td>\n",
              "      <td>0.515152</td>\n",
              "      <td>01:33</td>\n",
              "    </tr>\n",
              "    <tr>\n",
              "      <td>4</td>\n",
              "      <td>0.797031</td>\n",
              "      <td>0.871696</td>\n",
              "      <td>0.526515</td>\n",
              "      <td>01:33</td>\n",
              "    </tr>\n",
              "    <tr>\n",
              "      <td>5</td>\n",
              "      <td>0.787354</td>\n",
              "      <td>0.914654</td>\n",
              "      <td>0.518939</td>\n",
              "      <td>01:33</td>\n",
              "    </tr>\n",
              "    <tr>\n",
              "      <td>6</td>\n",
              "      <td>0.816605</td>\n",
              "      <td>0.849248</td>\n",
              "      <td>0.515152</td>\n",
              "      <td>01:33</td>\n",
              "    </tr>\n",
              "    <tr>\n",
              "      <td>7</td>\n",
              "      <td>0.777565</td>\n",
              "      <td>1.432015</td>\n",
              "      <td>0.496212</td>\n",
              "      <td>01:33</td>\n",
              "    </tr>\n",
              "    <tr>\n",
              "      <td>8</td>\n",
              "      <td>0.772735</td>\n",
              "      <td>0.967504</td>\n",
              "      <td>0.481061</td>\n",
              "      <td>01:33</td>\n",
              "    </tr>\n",
              "    <tr>\n",
              "      <td>9</td>\n",
              "      <td>0.760550</td>\n",
              "      <td>0.841153</td>\n",
              "      <td>0.518939</td>\n",
              "      <td>01:33</td>\n",
              "    </tr>\n",
              "    <tr>\n",
              "      <td>10</td>\n",
              "      <td>0.749163</td>\n",
              "      <td>1.254538</td>\n",
              "      <td>0.541667</td>\n",
              "      <td>01:33</td>\n",
              "    </tr>\n",
              "    <tr>\n",
              "      <td>11</td>\n",
              "      <td>0.772592</td>\n",
              "      <td>0.908671</td>\n",
              "      <td>0.568182</td>\n",
              "      <td>01:33</td>\n",
              "    </tr>\n",
              "    <tr>\n",
              "      <td>12</td>\n",
              "      <td>0.727086</td>\n",
              "      <td>0.878958</td>\n",
              "      <td>0.545455</td>\n",
              "      <td>01:33</td>\n",
              "    </tr>\n",
              "    <tr>\n",
              "      <td>13</td>\n",
              "      <td>0.750124</td>\n",
              "      <td>0.703426</td>\n",
              "      <td>0.534091</td>\n",
              "      <td>01:33</td>\n",
              "    </tr>\n",
              "    <tr>\n",
              "      <td>14</td>\n",
              "      <td>0.703378</td>\n",
              "      <td>0.727354</td>\n",
              "      <td>0.575758</td>\n",
              "      <td>01:33</td>\n",
              "    </tr>\n",
              "  </tbody>\n",
              "</table><p>\n",
              "\n",
              "    <div>\n",
              "        <style>\n",
              "            /* Turns off some styling */\n",
              "            progress {\n",
              "                /* gets rid of default border in Firefox and Opera. */\n",
              "                border: none;\n",
              "                /* Needs to be in here for Safari polyfill so background images work as expected. */\n",
              "                background-size: auto;\n",
              "            }\n",
              "            .progress-bar-interrupted, .progress-bar-interrupted::-webkit-progress-bar {\n",
              "                background: #F44336;\n",
              "            }\n",
              "        </style>\n",
              "      <progress value='67' class='' max='132' style='width:300px; height:20px; vertical-align: middle;'></progress>\n",
              "      50.76% [67/132 00:44<00:43 0.7120]\n",
              "    </div>\n",
              "    "
            ],
            "text/plain": [
              "<IPython.core.display.HTML object>"
            ]
          },
          "metadata": {}
        }
      ]
    },
    {
      "cell_type": "code",
      "metadata": {
        "id": "kQE0shcZXAQi"
      },
      "source": [
        ""
      ],
      "execution_count": null,
      "outputs": []
    }
  ]
}